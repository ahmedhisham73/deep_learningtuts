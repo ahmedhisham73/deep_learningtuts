{
  "nbformat": 4,
  "nbformat_minor": 0,
  "metadata": {
    "colab": {
      "name": "deeplearningtutorialCNN.ipynb",
      "version": "0.3.2",
      "provenance": [],
      "include_colab_link": true
    },
    "kernelspec": {
      "name": "python3",
      "display_name": "Python 3"
    },
    "accelerator": "GPU"
  },
  "cells": [
    {
      "cell_type": "markdown",
      "metadata": {
        "id": "view-in-github",
        "colab_type": "text"
      },
      "source": [
        "<a href=\"https://colab.research.google.com/github/ahmedhisham73/deep_learningtuts/blob/master/deeplearningtutorialCNN.ipynb\" target=\"_parent\"><img src=\"https://colab.research.google.com/assets/colab-badge.svg\" alt=\"Open In Colab\"/></a>"
      ]
    },
    {
      "cell_type": "code",
      "metadata": {
        "id": "l-Gqn5atyM8G",
        "colab_type": "code",
        "colab": {
          "base_uri": "https://localhost:8080/",
          "height": 471
        },
        "outputId": "1a55bc21-b26e-488f-a12e-f959524259ca"
      },
      "source": [
        "import tensorflow as tf\n",
        "mnist = tf.keras.datasets.fashion_mnist\n",
        "(training_images, training_labels), (test_images, test_labels) = mnist.load_data()\n",
        "training_images=training_images / 255.0\n",
        "test_images=test_images / 255.0\n",
        "model = tf.keras.models.Sequential([\n",
        "  tf.keras.layers.Flatten(),\n",
        "  tf.keras.layers.Dense(128, activation=tf.nn.relu),\n",
        "  tf.keras.layers.Dense(10, activation=tf.nn.softmax)\n",
        "])\n",
        "model.compile(optimizer='adam', loss='sparse_categorical_crossentropy', metrics=['accuracy'])\n",
        "model.fit(training_images, training_labels, epochs=10)\n",
        "\n",
        "test_loss = model.evaluate(test_images, test_labels)"
      ],
      "execution_count": 1,
      "outputs": [
        {
          "output_type": "stream",
          "text": [
            "WARNING: Logging before flag parsing goes to stderr.\n",
            "W0825 13:00:08.922802 140371948574592 deprecation.py:506] From /usr/local/lib/python3.6/dist-packages/tensorflow/python/ops/init_ops.py:1251: calling VarianceScaling.__init__ (from tensorflow.python.ops.init_ops) with dtype is deprecated and will be removed in a future version.\n",
            "Instructions for updating:\n",
            "Call initializer instance with the dtype argument instead of passing it to the constructor\n"
          ],
          "name": "stderr"
        },
        {
          "output_type": "stream",
          "text": [
            "Epoch 1/10\n",
            "60000/60000 [==============================] - 4s 64us/sample - loss: 0.5002 - acc: 0.8222\n",
            "Epoch 2/10\n",
            "60000/60000 [==============================] - 4s 58us/sample - loss: 0.3754 - acc: 0.8648\n",
            "Epoch 3/10\n",
            "60000/60000 [==============================] - 3s 58us/sample - loss: 0.3376 - acc: 0.8774\n",
            "Epoch 4/10\n",
            "60000/60000 [==============================] - 3s 58us/sample - loss: 0.3134 - acc: 0.8851\n",
            "Epoch 5/10\n",
            "60000/60000 [==============================] - 3s 58us/sample - loss: 0.2936 - acc: 0.8918\n",
            "Epoch 6/10\n",
            "60000/60000 [==============================] - 3s 57us/sample - loss: 0.2789 - acc: 0.8966\n",
            "Epoch 7/10\n",
            "60000/60000 [==============================] - 3s 58us/sample - loss: 0.2658 - acc: 0.9020\n",
            "Epoch 8/10\n",
            "60000/60000 [==============================] - 4s 59us/sample - loss: 0.2564 - acc: 0.9053\n",
            "Epoch 9/10\n",
            "60000/60000 [==============================] - 3s 58us/sample - loss: 0.2455 - acc: 0.9082\n",
            "Epoch 10/10\n",
            "60000/60000 [==============================] - 3s 58us/sample - loss: 0.2382 - acc: 0.9113\n",
            "10000/10000 [==============================] - 0s 41us/sample - loss: 0.3432 - acc: 0.8768\n"
          ],
          "name": "stdout"
        }
      ]
    },
    {
      "cell_type": "code",
      "metadata": {
        "id": "-7r0QP2d3ORg",
        "colab_type": "code",
        "colab": {
          "base_uri": "https://localhost:8080/",
          "height": 781
        },
        "outputId": "06faf3f0-5ee1-491a-f670-db8356670101"
      },
      "source": [
        "import tensorflow as tf\n",
        "print(tf.__version__)\n",
        "mnist = tf.keras.datasets.fashion_mnist\n",
        "(training_images, training_labels), (test_images, test_labels) = mnist.load_data()\n",
        "training_images=training_images.reshape(60000, 28, 28, 1)\n",
        "training_images=training_images / 255.0\n",
        "test_images = test_images.reshape(10000, 28, 28, 1)\n",
        "test_images=test_images/255.0\n",
        "model = tf.keras.models.Sequential([\n",
        "  tf.keras.layers.Conv2D(64, (3,3), activation='relu', input_shape=(28, 28, 1)),\n",
        "  tf.keras.layers.MaxPooling2D(2, 2),\n",
        "  tf.keras.layers.Conv2D(64, (3,3), activation='relu'),\n",
        "  tf.keras.layers.MaxPooling2D(2,2),\n",
        "  tf.keras.layers.Flatten(),\n",
        "  tf.keras.layers.Dense(128, activation='relu'),\n",
        "  tf.keras.layers.Dense(10, activation='softmax')\n",
        "])\n",
        "model.compile(optimizer='adam', loss='sparse_categorical_crossentropy', metrics=['accuracy'])\n",
        "model.summary()\n",
        "model.fit(training_images, training_labels, epochs=10)\n",
        "test_loss = model.evaluate(test_images, test_labels)\n"
      ],
      "execution_count": 2,
      "outputs": [
        {
          "output_type": "stream",
          "text": [
            "1.14.0\n",
            "Model: \"sequential_1\"\n",
            "_________________________________________________________________\n",
            "Layer (type)                 Output Shape              Param #   \n",
            "=================================================================\n",
            "conv2d (Conv2D)              (None, 26, 26, 64)        640       \n",
            "_________________________________________________________________\n",
            "max_pooling2d (MaxPooling2D) (None, 13, 13, 64)        0         \n",
            "_________________________________________________________________\n",
            "conv2d_1 (Conv2D)            (None, 11, 11, 64)        36928     \n",
            "_________________________________________________________________\n",
            "max_pooling2d_1 (MaxPooling2 (None, 5, 5, 64)          0         \n",
            "_________________________________________________________________\n",
            "flatten_1 (Flatten)          (None, 1600)              0         \n",
            "_________________________________________________________________\n",
            "dense_2 (Dense)              (None, 128)               204928    \n",
            "_________________________________________________________________\n",
            "dense_3 (Dense)              (None, 10)                1290      \n",
            "=================================================================\n",
            "Total params: 243,786\n",
            "Trainable params: 243,786\n",
            "Non-trainable params: 0\n",
            "_________________________________________________________________\n",
            "Epoch 1/10\n",
            "60000/60000 [==============================] - 8s 135us/sample - loss: 0.4383 - acc: 0.8433\n",
            "Epoch 2/10\n",
            "60000/60000 [==============================] - 5s 87us/sample - loss: 0.2931 - acc: 0.8928\n",
            "Epoch 3/10\n",
            "60000/60000 [==============================] - 5s 87us/sample - loss: 0.2500 - acc: 0.9074\n",
            "Epoch 4/10\n",
            "60000/60000 [==============================] - 5s 87us/sample - loss: 0.2156 - acc: 0.9202\n",
            "Epoch 5/10\n",
            "60000/60000 [==============================] - 5s 87us/sample - loss: 0.1891 - acc: 0.9291\n",
            "Epoch 6/10\n",
            "60000/60000 [==============================] - 5s 87us/sample - loss: 0.1664 - acc: 0.9370\n",
            "Epoch 7/10\n",
            "60000/60000 [==============================] - 5s 88us/sample - loss: 0.1469 - acc: 0.9446\n",
            "Epoch 8/10\n",
            "60000/60000 [==============================] - 5s 87us/sample - loss: 0.1275 - acc: 0.9508\n",
            "Epoch 9/10\n",
            "60000/60000 [==============================] - 5s 87us/sample - loss: 0.1109 - acc: 0.9576\n",
            "Epoch 10/10\n",
            "60000/60000 [==============================] - 5s 87us/sample - loss: 0.0977 - acc: 0.9635\n",
            "10000/10000 [==============================] - 1s 50us/sample - loss: 0.3096 - acc: 0.9108\n"
          ],
          "name": "stdout"
        }
      ]
    },
    {
      "cell_type": "markdown",
      "metadata": {
        "id": "NiFXkzYS3nHr",
        "colab_type": "text"
      },
      "source": [
        "now lets see the journey of the image during the whole training process"
      ]
    },
    {
      "cell_type": "code",
      "metadata": {
        "id": "xJ-AhUKT3wfT",
        "colab_type": "code",
        "colab": {
          "base_uri": "https://localhost:8080/",
          "height": 269
        },
        "outputId": "475e5afa-5141-417a-b74a-59e3e6deb401"
      },
      "source": [
        "import matplotlib.pyplot as plt\n",
        "f, axarr = plt.subplots(3,4)\n",
        "FIRST_IMAGE=1\n",
        "SECOND_IMAGE=19\n",
        "THIRD_IMAGE=29\n",
        "CONVOLUTION_NUMBER = 1\n",
        "from tensorflow.keras import models\n",
        "layer_outputs = [layer.output for layer in model.layers]\n",
        "activation_model = tf.keras.models.Model(inputs = model.input, outputs = layer_outputs)\n",
        "for x in range(0,4):\n",
        "  f1 = activation_model.predict(test_images[FIRST_IMAGE].reshape(1, 28, 28, 1))[x]\n",
        "  axarr[0,x].imshow(f1[0, : , :, CONVOLUTION_NUMBER], cmap='inferno')\n",
        "  axarr[0,x].grid(False)\n",
        "  f2 = activation_model.predict(test_images[SECOND_IMAGE].reshape(1, 28, 28, 1))[x]\n",
        "  axarr[1,x].imshow(f2[0, : , :, CONVOLUTION_NUMBER], cmap='inferno')\n",
        "  axarr[1,x].grid(False)\n",
        "  f3 = activation_model.predict(test_images[THIRD_IMAGE].reshape(1, 28, 28, 1))[x]\n",
        "  axarr[2,x].imshow(f3[0, : , :, CONVOLUTION_NUMBER], cmap='inferno')\n",
        "  axarr[2,x].grid(False)"
      ],
      "execution_count": 3,
      "outputs": [
        {
          "output_type": "display_data",
          "data": {
            "image/png": "[encoded data removed]",
            "text/plain": [
              "<Figure size 432x288 with 12 Axes>"
            ]
          },
          "metadata": {
            "tags": []
          }
        }
      ]
    },
    {
      "cell_type": "markdown",
      "metadata": {
        "id": "ZnOO7vIf4C6Y",
        "colab_type": "text"
      },
      "source": [
        "trying to improve the accuracy"
      ]
    },
    {
      "cell_type": "code",
      "metadata": {
        "id": "wTEC5mCa4Fxr",
        "colab_type": "code",
        "colab": {
          "base_uri": "https://localhost:8080/",
          "height": 416
        },
        "outputId": "db91420c-86d3-4c13-8fa7-6821a08b2514"
      },
      "source": [
        "import tensorflow as tf\n",
        "print(tf.__version__)\n",
        "mnist = tf.keras.datasets.mnist\n",
        "(training_images, training_labels), (test_images, test_labels) = mnist.load_data()\n",
        "training_images=training_images.reshape(60000, 28, 28, 1)\n",
        "training_images=training_images / 255.0\n",
        "test_images = test_images.reshape(10000, 28, 28, 1)\n",
        "test_images=test_images/255.0\n",
        "model = tf.keras.models.Sequential([\n",
        "  tf.keras.layers.Conv2D(32, (3,3), activation='relu', input_shape=(28, 28, 1)),\n",
        "  tf.keras.layers.MaxPooling2D(2, 2),\n",
        "  tf.keras.layers.Conv2D(16, (3,3), activation='relu', input_shape=(28, 28, 1)),\n",
        "  tf.keras.layers.MaxPooling2D(2, 2),\n",
        "  tf.keras.layers.Flatten(),\n",
        "  tf.keras.layers.Dense(128, activation='relu'),\n",
        "  tf.keras.layers.Dense(10, activation='softmax')\n",
        "])\n",
        "model.compile(optimizer='adam', loss='sparse_categorical_crossentropy', metrics=['accuracy'])\n",
        "model.fit(training_images, training_labels, epochs=10)\n",
        "test_loss, test_acc = model.evaluate(test_images, test_labels)\n",
        "print(test_acc)"
      ],
      "execution_count": 4,
      "outputs": [
        {
          "output_type": "stream",
          "text": [
            "1.14.0\n",
            "Epoch 1/10\n",
            "60000/60000 [==============================] - 5s 90us/sample - loss: 0.1613 - acc: 0.9517\n",
            "Epoch 2/10\n",
            "60000/60000 [==============================] - 5s 86us/sample - loss: 0.0533 - acc: 0.9837\n",
            "Epoch 3/10\n",
            "60000/60000 [==============================] - 5s 85us/sample - loss: 0.0374 - acc: 0.9886\n",
            "Epoch 4/10\n",
            "60000/60000 [==============================] - 5s 85us/sample - loss: 0.0285 - acc: 0.9912\n",
            "Epoch 5/10\n",
            "60000/60000 [==============================] - 5s 86us/sample - loss: 0.0225 - acc: 0.9926\n",
            "Epoch 6/10\n",
            "60000/60000 [==============================] - 5s 86us/sample - loss: 0.0175 - acc: 0.9943\n",
            "Epoch 7/10\n",
            "60000/60000 [==============================] - 5s 88us/sample - loss: 0.0146 - acc: 0.9951\n",
            "Epoch 8/10\n",
            "60000/60000 [==============================] - 5s 87us/sample - loss: 0.0130 - acc: 0.9959\n",
            "Epoch 9/10\n",
            "60000/60000 [==============================] - 5s 87us/sample - loss: 0.0110 - acc: 0.9962\n",
            "Epoch 10/10\n",
            "60000/60000 [==============================] - 5s 87us/sample - loss: 0.0094 - acc: 0.9969\n",
            "10000/10000 [==============================] - 1s 51us/sample - loss: 0.0394 - acc: 0.9902\n",
            "0.9902\n"
          ],
          "name": "stdout"
        }
      ]
    },
    {
      "cell_type": "code",
      "metadata": {
        "id": "ak3MSatc4ih3",
        "colab_type": "code",
        "colab": {}
      },
      "source": [
        ""
      ],
      "execution_count": 0,
      "outputs": []
    }
  ]
}