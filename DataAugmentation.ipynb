{
  "nbformat": 4,
  "nbformat_minor": 0,
  "metadata": {
    "colab": {
      "name": "DataAugmentation.ipynb",
      "version": "0.3.2",
      "provenance": [],
      "include_colab_link": true
    },
    "kernelspec": {
      "name": "python3",
      "display_name": "Python 3"
    },
    "accelerator": "GPU"
  },
  "cells": [
    {
      "cell_type": "markdown",
      "metadata": {
        "id": "view-in-github",
        "colab_type": "text"
      },
      "source": [
        "<a href=\"https://colab.research.google.com/github/ahmedhisham73/deep_learningtuts/blob/master/DataAugmentation.ipynb\" target=\"_parent\"><img src=\"https://colab.research.google.com/assets/colab-badge.svg\" alt=\"Open In Colab\"/></a>"
      ]
    },
    {
      "cell_type": "code",
      "metadata": {
        "id": "ty_LUCoY9zOZ",
        "colab_type": "code",
        "colab": {
          "base_uri": "https://localhost:8080/",
          "height": 208
        },
        "outputId": "6cc71c6a-541e-4809-8b76-7baa1f55ef61"
      },
      "source": [
        "!wget --no-check-certificate \\\n",
        "    https://storage.googleapis.com/mledu-datasets/cats_and_dogs_filtered.zip \\\n",
        "    -O /tmp/cats_and_dogs_filtered.zip"
      ],
      "execution_count": 1,
      "outputs": [
        {
          "output_type": "stream",
          "text": [
            "--2019-08-26 12:56:18--  https://storage.googleapis.com/mledu-datasets/cats_and_dogs_filtered.zip\n",
            "Resolving storage.googleapis.com (storage.googleapis.com)... 74.125.128.128, 2a00:1450:4013:c02::80\n",
            "Connecting to storage.googleapis.com (storage.googleapis.com)|74.125.128.128|:443... connected.\n",
            "HTTP request sent, awaiting response... 200 OK\n",
            "Length: 68606236 (65M) [application/zip]\n",
            "Saving to: ‘/tmp/cats_and_dogs_filtered.zip’\n",
            "\n",
            "/tmp/cats_and_dogs_ 100%[===================>]  65.43M  38.0MB/s    in 1.7s    \n",
            "\n",
            "2019-08-26 12:56:20 (38.0 MB/s) - ‘/tmp/cats_and_dogs_filtered.zip’ saved [68606236/68606236]\n",
            "\n"
          ],
          "name": "stdout"
        }
      ]
    },
    {
      "cell_type": "markdown",
      "metadata": {
        "id": "hgukjJhk-gFJ",
        "colab_type": "text"
      },
      "source": [
        "we will start testing on cats vs dogs dataset"
      ]
    },
    {
      "cell_type": "code",
      "metadata": {
        "id": "Q8CA68Qf-qc9",
        "colab_type": "code",
        "colab": {}
      },
      "source": [
        "import os\n",
        "import zipfile\n",
        "import tensorflow as tf\n",
        "from tensorflow.keras.optimizers import RMSprop\n",
        "from tensorflow.keras.preprocessing.image import ImageDataGenerator"
      ],
      "execution_count": 0,
      "outputs": []
    },
    {
      "cell_type": "markdown",
      "metadata": {
        "id": "FvskcwWv-xMM",
        "colab_type": "text"
      },
      "source": [
        "creating training and validation image data generator with subdirectories"
      ]
    },
    {
      "cell_type": "code",
      "metadata": {
        "id": "S90nbVFO-3zh",
        "colab_type": "code",
        "colab": {}
      },
      "source": [
        "\n",
        "local_zip = '/tmp/cats_and_dogs_filtered.zip'\n",
        "zip_ref = zipfile.ZipFile(local_zip, 'r')\n",
        "zip_ref.extractall('/tmp')\n",
        "zip_ref.close()\n",
        "base_dir = '/tmp/cats_and_dogs_filtered'\n",
        "train_dir = os.path.join(base_dir, 'train')\n",
        "validation_dir = os.path.join(base_dir, 'validation')\n",
        "\n",
        "# Directory with our training cat pictures\n",
        "train_cats_dir = os.path.join(train_dir, 'cats')\n",
        "\n",
        "# Directory with our training dog pictures\n",
        "train_dogs_dir = os.path.join(train_dir, 'dogs')\n",
        "\n",
        "# Directory with our validation cat pictures\n",
        "validation_cats_dir = os.path.join(validation_dir, 'cats')\n",
        "\n",
        "# Directory with our validation dog pictures\n",
        "validation_dogs_dir = os.path.join(validation_dir, 'dogs')"
      ],
      "execution_count": 0,
      "outputs": []
    },
    {
      "cell_type": "markdown",
      "metadata": {
        "id": "Y0HwiNiO-7TH",
        "colab_type": "text"
      },
      "source": [
        "creating the Deep neural network"
      ]
    },
    {
      "cell_type": "code",
      "metadata": {
        "id": "0afTmiCr-_Mj",
        "colab_type": "code",
        "colab": {
          "base_uri": "https://localhost:8080/",
          "height": 106
        },
        "outputId": "a184f8cb-d2af-4c62-e8fb-aeda2c3f3a1e"
      },
      "source": [
        "\n",
        "model = tf.keras.models.Sequential([\n",
        "    tf.keras.layers.Conv2D(32, (3,3), activation='relu', input_shape=(150, 150, 3)),\n",
        "    tf.keras.layers.MaxPooling2D(2, 2),\n",
        "    tf.keras.layers.Conv2D(64, (3,3), activation='relu'),\n",
        "    tf.keras.layers.MaxPooling2D(2,2),\n",
        "    tf.keras.layers.Conv2D(128, (3,3), activation='relu'),\n",
        "    tf.keras.layers.MaxPooling2D(2,2),\n",
        "    tf.keras.layers.Conv2D(128, (3,3), activation='relu'),\n",
        "    tf.keras.layers.MaxPooling2D(2,2),\n",
        "    tf.keras.layers.Flatten(),\n",
        "    tf.keras.layers.Dense(512, activation='relu'),\n",
        "    tf.keras.layers.Dense(1, activation='sigmoid')\n",
        "])"
      ],
      "execution_count": 5,
      "outputs": [
        {
          "output_type": "stream",
          "text": [
            "WARNING: Logging before flag parsing goes to stderr.\n",
            "W0826 12:57:09.810076 140641354385280 deprecation.py:506] From /usr/local/lib/python3.6/dist-packages/tensorflow/python/ops/init_ops.py:1251: calling VarianceScaling.__init__ (from tensorflow.python.ops.init_ops) with dtype is deprecated and will be removed in a future version.\n",
            "Instructions for updating:\n",
            "Call initializer instance with the dtype argument instead of passing it to the constructor\n"
          ],
          "name": "stderr"
        }
      ]
    },
    {
      "cell_type": "markdown",
      "metadata": {
        "id": "oq4yuMjx_GBx",
        "colab_type": "text"
      },
      "source": [
        "creating the optimizer"
      ]
    },
    {
      "cell_type": "code",
      "metadata": {
        "id": "pGq-RAwF_IEp",
        "colab_type": "code",
        "colab": {
          "base_uri": "https://localhost:8080/",
          "height": 89
        },
        "outputId": "b7a7a898-1359-4a9d-b69c-cabf4aa3f3ce"
      },
      "source": [
        "model.compile(loss='binary_crossentropy',\n",
        "              optimizer=RMSprop(lr=1e-4),\n",
        "              metrics=['acc'])"
      ],
      "execution_count": 6,
      "outputs": [
        {
          "output_type": "stream",
          "text": [
            "W0826 12:57:16.759686 140641354385280 deprecation.py:323] From /usr/local/lib/python3.6/dist-packages/tensorflow/python/ops/nn_impl.py:180: add_dispatch_support.<locals>.wrapper (from tensorflow.python.ops.array_ops) is deprecated and will be removed in a future version.\n",
            "Instructions for updating:\n",
            "Use tf.where in 2.0, which has the same broadcast rule as np.where\n"
          ],
          "name": "stderr"
        }
      ]
    },
    {
      "cell_type": "markdown",
      "metadata": {
        "id": "wigJ2kSk_OYO",
        "colab_type": "text"
      },
      "source": [
        "data validation and training"
      ]
    },
    {
      "cell_type": "code",
      "metadata": {
        "id": "gEyBiuT2_Qxq",
        "colab_type": "code",
        "colab": {
          "base_uri": "https://localhost:8080/",
          "height": 1000
        },
        "outputId": "989c83af-1fe7-4949-98c2-3d7d23d9c11b"
      },
      "source": [
        "# All images will be rescaled by 1./255\n",
        "train_datagen = ImageDataGenerator(rescale=1./255)\n",
        "test_datagen = ImageDataGenerator(rescale=1./255)\n",
        "\n",
        "# Flow training images in batches of 20 using train_datagen generator\n",
        "train_generator = train_datagen.flow_from_directory(\n",
        "        train_dir,  # This is the source directory for training images\n",
        "        target_size=(150, 150),  # All images will be resized to 150x150\n",
        "        batch_size=20,\n",
        "        # Since we use binary_crossentropy loss, we need binary labels\n",
        "        class_mode='binary')\n",
        "\n",
        "# Flow validation images in batches of 20 using test_datagen generator\n",
        "validation_generator = test_datagen.flow_from_directory(\n",
        "        validation_dir,\n",
        "        target_size=(150, 150),\n",
        "        batch_size=20,\n",
        "        class_mode='binary')\n",
        "\n",
        "history = model.fit_generator(\n",
        "      train_generator,\n",
        "      steps_per_epoch=100,  # 2000 images = batch_size * steps\n",
        "      epochs=100,\n",
        "      validation_data=validation_generator,\n",
        "      validation_steps=50,  # 1000 images = batch_size * steps\n",
        "      verbose=2)\n"
      ],
      "execution_count": 7,
      "outputs": [
        {
          "output_type": "stream",
          "text": [
            "Found 2000 images belonging to 2 classes.\n",
            "Found 1000 images belonging to 2 classes.\n",
            "Epoch 1/100\n",
            "100/100 - 12s - loss: 0.6898 - acc: 0.5405 - val_loss: 0.6725 - val_acc: 0.6100\n",
            "Epoch 2/100\n",
            "100/100 - 8s - loss: 0.6575 - acc: 0.6070 - val_loss: 0.6365 - val_acc: 0.6660\n",
            "Epoch 3/100\n",
            "100/100 - 8s - loss: 0.6169 - acc: 0.6560 - val_loss: 0.5945 - val_acc: 0.6950\n",
            "Epoch 4/100\n",
            "100/100 - 8s - loss: 0.5641 - acc: 0.7055 - val_loss: 0.5989 - val_acc: 0.6790\n",
            "Epoch 5/100\n",
            "100/100 - 8s - loss: 0.5332 - acc: 0.7385 - val_loss: 0.5730 - val_acc: 0.6930\n",
            "Epoch 6/100\n",
            "100/100 - 8s - loss: 0.5037 - acc: 0.7530 - val_loss: 0.5703 - val_acc: 0.7200\n",
            "Epoch 7/100\n",
            "100/100 - 7s - loss: 0.4796 - acc: 0.7710 - val_loss: 0.5520 - val_acc: 0.7260\n",
            "Epoch 8/100\n",
            "100/100 - 7s - loss: 0.4530 - acc: 0.7855 - val_loss: 0.5471 - val_acc: 0.7280\n",
            "Epoch 9/100\n",
            "100/100 - 8s - loss: 0.4229 - acc: 0.8110 - val_loss: 0.5362 - val_acc: 0.7340\n",
            "Epoch 10/100\n",
            "100/100 - 7s - loss: 0.3887 - acc: 0.8245 - val_loss: 0.5544 - val_acc: 0.7350\n",
            "Epoch 11/100\n",
            "100/100 - 8s - loss: 0.3774 - acc: 0.8350 - val_loss: 0.5937 - val_acc: 0.7100\n",
            "Epoch 12/100\n",
            "100/100 - 8s - loss: 0.3390 - acc: 0.8610 - val_loss: 0.5552 - val_acc: 0.7350\n",
            "Epoch 13/100\n",
            "100/100 - 8s - loss: 0.3159 - acc: 0.8710 - val_loss: 0.5522 - val_acc: 0.7480\n",
            "Epoch 14/100\n",
            "100/100 - 8s - loss: 0.2913 - acc: 0.8795 - val_loss: 0.5836 - val_acc: 0.7240\n",
            "Epoch 15/100\n",
            "100/100 - 7s - loss: 0.2709 - acc: 0.8930 - val_loss: 0.7983 - val_acc: 0.6690\n",
            "Epoch 16/100\n",
            "100/100 - 7s - loss: 0.2484 - acc: 0.8955 - val_loss: 0.5715 - val_acc: 0.7350\n",
            "Epoch 17/100\n",
            "100/100 - 7s - loss: 0.2272 - acc: 0.9115 - val_loss: 0.5809 - val_acc: 0.7480\n",
            "Epoch 18/100\n",
            "100/100 - 8s - loss: 0.2017 - acc: 0.9285 - val_loss: 0.5932 - val_acc: 0.7480\n",
            "Epoch 19/100\n",
            "100/100 - 8s - loss: 0.1808 - acc: 0.9300 - val_loss: 0.6112 - val_acc: 0.7450\n",
            "Epoch 20/100\n",
            "100/100 - 8s - loss: 0.1717 - acc: 0.9360 - val_loss: 0.6198 - val_acc: 0.7530\n",
            "Epoch 21/100\n",
            "100/100 - 8s - loss: 0.1446 - acc: 0.9520 - val_loss: 0.6495 - val_acc: 0.7290\n",
            "Epoch 22/100\n",
            "100/100 - 8s - loss: 0.1255 - acc: 0.9555 - val_loss: 0.6630 - val_acc: 0.7360\n",
            "Epoch 23/100\n",
            "100/100 - 8s - loss: 0.1137 - acc: 0.9605 - val_loss: 0.7048 - val_acc: 0.7510\n",
            "Epoch 24/100\n",
            "100/100 - 8s - loss: 0.0952 - acc: 0.9655 - val_loss: 0.7719 - val_acc: 0.7420\n",
            "Epoch 25/100\n",
            "100/100 - 8s - loss: 0.0872 - acc: 0.9705 - val_loss: 0.9836 - val_acc: 0.7200\n",
            "Epoch 26/100\n",
            "100/100 - 7s - loss: 0.0641 - acc: 0.9840 - val_loss: 1.0196 - val_acc: 0.7020\n",
            "Epoch 27/100\n",
            "100/100 - 7s - loss: 0.0605 - acc: 0.9810 - val_loss: 0.9519 - val_acc: 0.7280\n",
            "Epoch 28/100\n",
            "100/100 - 7s - loss: 0.0488 - acc: 0.9845 - val_loss: 0.8371 - val_acc: 0.7490\n",
            "Epoch 29/100\n",
            "100/100 - 7s - loss: 0.0426 - acc: 0.9900 - val_loss: 0.9209 - val_acc: 0.7450\n",
            "Epoch 30/100\n",
            "100/100 - 7s - loss: 0.0372 - acc: 0.9920 - val_loss: 1.0294 - val_acc: 0.7350\n",
            "Epoch 31/100\n",
            "100/100 - 7s - loss: 0.0330 - acc: 0.9925 - val_loss: 0.9777 - val_acc: 0.7350\n",
            "Epoch 32/100\n",
            "100/100 - 7s - loss: 0.0249 - acc: 0.9940 - val_loss: 1.3017 - val_acc: 0.7160\n",
            "Epoch 33/100\n",
            "100/100 - 7s - loss: 0.0191 - acc: 0.9975 - val_loss: 1.1732 - val_acc: 0.7320\n",
            "Epoch 34/100\n",
            "100/100 - 7s - loss: 0.0218 - acc: 0.9935 - val_loss: 1.0865 - val_acc: 0.7480\n",
            "Epoch 35/100\n",
            "100/100 - 8s - loss: 0.0190 - acc: 0.9945 - val_loss: 1.1104 - val_acc: 0.7440\n",
            "Epoch 36/100\n",
            "100/100 - 7s - loss: 0.0184 - acc: 0.9965 - val_loss: 1.1497 - val_acc: 0.7490\n",
            "Epoch 37/100\n",
            "100/100 - 7s - loss: 0.0167 - acc: 0.9960 - val_loss: 1.2971 - val_acc: 0.7190\n",
            "Epoch 38/100\n",
            "100/100 - 7s - loss: 0.0188 - acc: 0.9945 - val_loss: 1.2921 - val_acc: 0.7450\n",
            "Epoch 39/100\n",
            "100/100 - 7s - loss: 0.0224 - acc: 0.9915 - val_loss: 1.2765 - val_acc: 0.7360\n",
            "Epoch 40/100\n",
            "100/100 - 7s - loss: 0.0131 - acc: 0.9970 - val_loss: 1.2350 - val_acc: 0.7450\n",
            "Epoch 41/100\n",
            "100/100 - 7s - loss: 0.0170 - acc: 0.9935 - val_loss: 1.3077 - val_acc: 0.7430\n",
            "Epoch 42/100\n",
            "100/100 - 7s - loss: 0.0064 - acc: 0.9990 - val_loss: 1.3794 - val_acc: 0.7500\n",
            "Epoch 43/100\n",
            "100/100 - 7s - loss: 0.0065 - acc: 0.9980 - val_loss: 1.3831 - val_acc: 0.7410\n",
            "Epoch 44/100\n",
            "100/100 - 7s - loss: 0.0113 - acc: 0.9955 - val_loss: 1.8911 - val_acc: 0.7110\n",
            "Epoch 45/100\n",
            "100/100 - 7s - loss: 0.0082 - acc: 0.9985 - val_loss: 1.3810 - val_acc: 0.7510\n",
            "Epoch 46/100\n",
            "100/100 - 8s - loss: 0.0085 - acc: 0.9970 - val_loss: 1.4547 - val_acc: 0.7440\n",
            "Epoch 47/100\n",
            "100/100 - 8s - loss: 0.0093 - acc: 0.9965 - val_loss: 1.4307 - val_acc: 0.7400\n",
            "Epoch 48/100\n",
            "100/100 - 7s - loss: 0.0099 - acc: 0.9970 - val_loss: 1.4351 - val_acc: 0.7330\n",
            "Epoch 49/100\n",
            "100/100 - 7s - loss: 0.0070 - acc: 0.9970 - val_loss: 1.4819 - val_acc: 0.7390\n",
            "Epoch 50/100\n",
            "100/100 - 7s - loss: 0.0045 - acc: 0.9995 - val_loss: 1.5674 - val_acc: 0.7400\n",
            "Epoch 51/100\n",
            "100/100 - 7s - loss: 0.0115 - acc: 0.9950 - val_loss: 1.8118 - val_acc: 0.7360\n",
            "Epoch 52/100\n",
            "100/100 - 7s - loss: 0.0070 - acc: 0.9970 - val_loss: 1.5971 - val_acc: 0.7360\n",
            "Epoch 53/100\n",
            "100/100 - 7s - loss: 0.0020 - acc: 0.9995 - val_loss: 1.6494 - val_acc: 0.7360\n",
            "Epoch 54/100\n",
            "100/100 - 7s - loss: 0.0059 - acc: 0.9975 - val_loss: 1.6967 - val_acc: 0.7490\n",
            "Epoch 55/100\n",
            "100/100 - 7s - loss: 0.0023 - acc: 0.9990 - val_loss: 1.7623 - val_acc: 0.7490\n",
            "Epoch 56/100\n",
            "100/100 - 8s - loss: 0.0091 - acc: 0.9970 - val_loss: 1.7030 - val_acc: 0.7440\n",
            "Epoch 57/100\n",
            "100/100 - 8s - loss: 0.0068 - acc: 0.9970 - val_loss: 1.8030 - val_acc: 0.7450\n",
            "Epoch 58/100\n",
            "100/100 - 7s - loss: 0.0069 - acc: 0.9975 - val_loss: 1.7982 - val_acc: 0.7410\n",
            "Epoch 59/100\n",
            "100/100 - 7s - loss: 0.0017 - acc: 0.9990 - val_loss: 1.8715 - val_acc: 0.7360\n",
            "Epoch 60/100\n",
            "100/100 - 8s - loss: 7.8186e-04 - acc: 1.0000 - val_loss: 2.9230 - val_acc: 0.6970\n",
            "Epoch 61/100\n",
            "100/100 - 8s - loss: 0.0099 - acc: 0.9980 - val_loss: 1.9815 - val_acc: 0.7400\n",
            "Epoch 62/100\n",
            "100/100 - 7s - loss: 0.0080 - acc: 0.9975 - val_loss: 2.0403 - val_acc: 0.7360\n",
            "Epoch 63/100\n",
            "100/100 - 7s - loss: 2.1238e-04 - acc: 1.0000 - val_loss: 2.1587 - val_acc: 0.7380\n",
            "Epoch 64/100\n",
            "100/100 - 7s - loss: 0.0119 - acc: 0.9960 - val_loss: 1.9118 - val_acc: 0.7400\n",
            "Epoch 65/100\n",
            "100/100 - 7s - loss: 0.0030 - acc: 0.9990 - val_loss: 1.9574 - val_acc: 0.7360\n",
            "Epoch 66/100\n",
            "100/100 - 7s - loss: 0.0073 - acc: 0.9970 - val_loss: 1.8336 - val_acc: 0.7470\n",
            "Epoch 67/100\n",
            "100/100 - 7s - loss: 0.0033 - acc: 0.9995 - val_loss: 1.9032 - val_acc: 0.7450\n",
            "Epoch 68/100\n",
            "100/100 - 7s - loss: 0.0054 - acc: 0.9975 - val_loss: 1.8927 - val_acc: 0.7390\n",
            "Epoch 69/100\n",
            "100/100 - 7s - loss: 0.0108 - acc: 0.9985 - val_loss: 2.0183 - val_acc: 0.7360\n",
            "Epoch 70/100\n",
            "100/100 - 7s - loss: 5.3807e-04 - acc: 1.0000 - val_loss: 1.9393 - val_acc: 0.7570\n",
            "Epoch 71/100\n",
            "100/100 - 7s - loss: 0.0025 - acc: 0.9990 - val_loss: 1.9424 - val_acc: 0.7440\n",
            "Epoch 72/100\n",
            "100/100 - 7s - loss: 0.0016 - acc: 0.9995 - val_loss: 1.9651 - val_acc: 0.7410\n",
            "Epoch 73/100\n",
            "100/100 - 7s - loss: 0.0023 - acc: 0.9990 - val_loss: 1.9815 - val_acc: 0.7510\n",
            "Epoch 74/100\n",
            "100/100 - 7s - loss: 0.0079 - acc: 0.9985 - val_loss: 2.0697 - val_acc: 0.7550\n",
            "Epoch 75/100\n",
            "100/100 - 7s - loss: 0.0017 - acc: 0.9995 - val_loss: 2.0740 - val_acc: 0.7490\n",
            "Epoch 76/100\n",
            "100/100 - 7s - loss: 0.0044 - acc: 0.9990 - val_loss: 2.1489 - val_acc: 0.7550\n",
            "Epoch 77/100\n",
            "100/100 - 7s - loss: 3.4490e-05 - acc: 1.0000 - val_loss: 2.1328 - val_acc: 0.7590\n",
            "Epoch 78/100\n",
            "100/100 - 7s - loss: 0.0048 - acc: 0.9985 - val_loss: 2.0932 - val_acc: 0.7450\n",
            "Epoch 79/100\n",
            "100/100 - 7s - loss: 0.0129 - acc: 0.9975 - val_loss: 2.5492 - val_acc: 0.7340\n",
            "Epoch 80/100\n",
            "100/100 - 7s - loss: 2.5687e-04 - acc: 1.0000 - val_loss: 2.2450 - val_acc: 0.7450\n",
            "Epoch 81/100\n",
            "100/100 - 7s - loss: 0.0079 - acc: 0.9970 - val_loss: 2.1949 - val_acc: 0.7390\n",
            "Epoch 82/100\n",
            "100/100 - 7s - loss: 0.0012 - acc: 0.9995 - val_loss: 2.4805 - val_acc: 0.7380\n",
            "Epoch 83/100\n",
            "100/100 - 7s - loss: 1.6611e-04 - acc: 1.0000 - val_loss: 2.8764 - val_acc: 0.7210\n",
            "Epoch 84/100\n",
            "100/100 - 7s - loss: 0.0073 - acc: 0.9980 - val_loss: 2.4156 - val_acc: 0.7280\n",
            "Epoch 85/100\n",
            "100/100 - 7s - loss: 0.0032 - acc: 0.9995 - val_loss: 2.2451 - val_acc: 0.7510\n",
            "Epoch 86/100\n",
            "100/100 - 7s - loss: 0.0079 - acc: 0.9985 - val_loss: 2.3239 - val_acc: 0.7410\n",
            "Epoch 87/100\n",
            "100/100 - 7s - loss: 5.1460e-04 - acc: 1.0000 - val_loss: 2.3182 - val_acc: 0.7510\n",
            "Epoch 88/100\n",
            "100/100 - 7s - loss: 0.0079 - acc: 0.9980 - val_loss: 2.4652 - val_acc: 0.7390\n",
            "Epoch 89/100\n",
            "100/100 - 7s - loss: 1.2414e-05 - acc: 1.0000 - val_loss: 2.4292 - val_acc: 0.7390\n",
            "Epoch 90/100\n",
            "100/100 - 7s - loss: 0.0056 - acc: 0.9980 - val_loss: 2.3929 - val_acc: 0.7260\n",
            "Epoch 91/100\n",
            "100/100 - 7s - loss: 0.0060 - acc: 0.9985 - val_loss: 2.5212 - val_acc: 0.7460\n",
            "Epoch 92/100\n",
            "100/100 - 7s - loss: 8.7817e-05 - acc: 1.0000 - val_loss: 2.3905 - val_acc: 0.7450\n",
            "Epoch 93/100\n",
            "100/100 - 7s - loss: 0.0122 - acc: 0.9955 - val_loss: 2.4782 - val_acc: 0.7450\n",
            "Epoch 94/100\n",
            "100/100 - 7s - loss: 1.6945e-05 - acc: 1.0000 - val_loss: 2.5454 - val_acc: 0.7420\n",
            "Epoch 95/100\n",
            "100/100 - 7s - loss: 0.0013 - acc: 0.9995 - val_loss: 2.5726 - val_acc: 0.7470\n",
            "Epoch 96/100\n",
            "100/100 - 7s - loss: 0.0067 - acc: 0.9985 - val_loss: 2.5294 - val_acc: 0.7360\n",
            "Epoch 97/100\n",
            "100/100 - 7s - loss: 0.0070 - acc: 0.9975 - val_loss: 2.6045 - val_acc: 0.7350\n",
            "Epoch 98/100\n",
            "100/100 - 7s - loss: 6.2024e-05 - acc: 1.0000 - val_loss: 2.5260 - val_acc: 0.7430\n",
            "Epoch 99/100\n",
            "100/100 - 7s - loss: 0.0037 - acc: 0.9985 - val_loss: 2.4812 - val_acc: 0.7480\n",
            "Epoch 100/100\n",
            "100/100 - 7s - loss: 0.0046 - acc: 0.9990 - val_loss: 2.4526 - val_acc: 0.7430\n"
          ],
          "name": "stdout"
        }
      ]
    },
    {
      "cell_type": "markdown",
      "metadata": {
        "id": "Brp4R5WGAWXz",
        "colab_type": "text"
      },
      "source": [
        "plotting accuracy vs loss"
      ]
    },
    {
      "cell_type": "code",
      "metadata": {
        "id": "mT3IQky2AcqE",
        "colab_type": "code",
        "colab": {
          "base_uri": "https://localhost:8080/",
          "height": 545
        },
        "outputId": "2b6a663d-6d0a-45a9-a104-ff4713840aa0"
      },
      "source": [
        "import matplotlib.pyplot as plt\n",
        "acc = history.history['acc']\n",
        "val_acc = history.history['val_acc']\n",
        "loss = history.history['loss']\n",
        "val_loss = history.history['val_loss']\n",
        "\n",
        "epochs = range(len(acc))\n",
        "\n",
        "plt.plot(epochs, acc, 'bo', label='Training_accuracy')\n",
        "plt.plot(epochs, val_acc, 'b', label='Validation_accuracy')\n",
        "plt.title('Training and validation accuracy')\n",
        "\n",
        "plt.figure()\n",
        "\n",
        "plt.plot(epochs, loss, 'bo', label='Training_Loss')\n",
        "plt.plot(epochs, val_loss, 'b', label='Validation_Loss')\n",
        "plt.title('Training and validation loss')\n",
        "plt.legend()\n",
        "\n",
        "plt.show()"
      ],
      "execution_count": 8,
      "outputs": [
        {
          "output_type": "display_data",
          "data": {
            "image/png": "[encoded data removed]",
            "text/plain": [
              "<Figure size 432x288 with 1 Axes>"
            ]
          },
          "metadata": {
            "tags": []
          }
        },
        {
          "output_type": "display_data",
          "data": {
            "image/png": "[encoded data removed]",
            "text/plain": [
              "<Figure size 432x288 with 1 Axes>"
            ]
          },
          "metadata": {
            "tags": []
          }
        }
      ]
    },
    {
      "cell_type": "markdown",
      "metadata": {
        "id": "BmotF42ABiDL",
        "colab_type": "text"
      },
      "source": [
        "overfitting occurs? \n",
        "refers to a model that models the training data too well.\n",
        "\n",
        "Overfitting happens when a model learns the detail and noise in the training data to the extent that it negatively impacts the performance of the model on new data. This means that the noise or random fluctuations in the training data is picked up and learned as concepts by the model. The problem is that these concepts do not apply to new data and negatively impact the models ability to generalize."
      ]
    },
    {
      "cell_type": "code",
      "metadata": {
        "id": "z-OB8dAQDqrG",
        "colab_type": "code",
        "colab": {
          "base_uri": "https://localhost:8080/",
          "height": 1000
        },
        "outputId": "7f4e7603-a12d-4d02-ec08-73f7563e6f3e"
      },
      "source": [
        "!wget --no-check-certificate \\\n",
        "    https://storage.googleapis.com/mledu-datasets/cats_and_dogs_filtered.zip \\\n",
        "    -O /tmp/cats_and_dogs_filtered.zip\n",
        "  \n",
        "import os\n",
        "import zipfile\n",
        "import tensorflow as tf\n",
        "from tensorflow.keras.optimizers import RMSprop\n",
        "from tensorflow.keras.preprocessing.image import ImageDataGenerator\n",
        "\n",
        "local_zip = '/tmp/cats_and_dogs_filtered.zip'\n",
        "zip_ref = zipfile.ZipFile(local_zip, 'r')\n",
        "zip_ref.extractall('/tmp')\n",
        "zip_ref.close()\n",
        "\n",
        "base_dir = '/tmp/cats_and_dogs_filtered'\n",
        "train_dir = os.path.join(base_dir, 'train')\n",
        "validation_dir = os.path.join(base_dir, 'validation')\n",
        "\n",
        "# Directory with our training cat pictures\n",
        "train_cats_dir = os.path.join(train_dir, 'cats')\n",
        "\n",
        "# Directory with our training dog pictures\n",
        "train_dogs_dir = os.path.join(train_dir, 'dogs')\n",
        "\n",
        "# Directory with our validation cat pictures\n",
        "validation_cats_dir = os.path.join(validation_dir, 'cats')\n",
        "\n",
        "# Directory with our validation dog pictures\n",
        "validation_dogs_dir = os.path.join(validation_dir, 'dogs')\n",
        "\n",
        "model = tf.keras.models.Sequential([\n",
        "    tf.keras.layers.Conv2D(32, (3,3), activation='relu', input_shape=(150, 150, 3)),\n",
        "    tf.keras.layers.MaxPooling2D(2, 2),\n",
        "    tf.keras.layers.Conv2D(64, (3,3), activation='relu'),\n",
        "    tf.keras.layers.MaxPooling2D(2,2),\n",
        "    tf.keras.layers.Conv2D(128, (3,3), activation='relu'),\n",
        "    tf.keras.layers.MaxPooling2D(2,2),\n",
        "    tf.keras.layers.Conv2D(128, (3,3), activation='relu'),\n",
        "    tf.keras.layers.MaxPooling2D(2,2),\n",
        "    tf.keras.layers.Flatten(),\n",
        "    tf.keras.layers.Dense(512, activation='relu'),\n",
        "    tf.keras.layers.Dense(1, activation='sigmoid')\n",
        "])\n",
        "\n",
        "model.compile(loss='binary_crossentropy',\n",
        "              optimizer=RMSprop(lr=1e-4),\n",
        "              metrics=['acc'])\n",
        "\n",
        "# This code has changed. Now instead of the ImageGenerator just rescaling\n",
        "# the image, we also rotate and do other operations\n",
        "# Updated to do image augmentation\n",
        "train_datagen = ImageDataGenerator(\n",
        "      rescale=1./255,\n",
        "      rotation_range=40,\n",
        "      width_shift_range=0.2,\n",
        "      height_shift_range=0.2,\n",
        "      shear_range=0.2,\n",
        "      zoom_range=0.2,\n",
        "      horizontal_flip=True,\n",
        "      fill_mode='nearest')\n",
        "\n",
        "test_datagen = ImageDataGenerator(rescale=1./255)\n",
        "\n",
        "# Flow training images in batches of 20 using train_datagen generator\n",
        "train_generator = train_datagen.flow_from_directory(\n",
        "        train_dir,  # This is the source directory for training images\n",
        "        target_size=(150, 150),  # All images will be resized to 150x150\n",
        "        batch_size=20,\n",
        "        # Since we use binary_crossentropy loss, we need binary labels\n",
        "        class_mode='binary')\n",
        "\n",
        "# Flow validation images in batches of 20 using test_datagen generator\n",
        "validation_generator = test_datagen.flow_from_directory(\n",
        "        validation_dir,\n",
        "        target_size=(150, 150),\n",
        "        batch_size=20,\n",
        "        class_mode='binary')\n",
        "\n",
        "history = model.fit_generator(\n",
        "      train_generator,\n",
        "      steps_per_epoch=100,  # 2000 images = batch_size * steps\n",
        "      epochs=100,\n",
        "      validation_data=validation_generator,\n",
        "      validation_steps=50,  # 1000 images = batch_size * steps\n",
        "      verbose=2)"
      ],
      "execution_count": 9,
      "outputs": [
        {
          "output_type": "stream",
          "text": [
            "--2019-08-26 13:13:10--  https://storage.googleapis.com/mledu-datasets/cats_and_dogs_filtered.zip\n",
            "Resolving storage.googleapis.com (storage.googleapis.com)... 108.177.127.128, 2a00:1450:4013:c02::80\n",
            "Connecting to storage.googleapis.com (storage.googleapis.com)|108.177.127.128|:443... connected.\n",
            "HTTP request sent, awaiting response... 200 OK\n",
            "Length: 68606236 (65M) [application/zip]\n",
            "Saving to: ‘/tmp/cats_and_dogs_filtered.zip’\n",
            "\n",
            "/tmp/cats_and_dogs_ 100%[===================>]  65.43M  56.7MB/s    in 1.2s    \n",
            "\n",
            "2019-08-26 13:13:11 (56.7 MB/s) - ‘/tmp/cats_and_dogs_filtered.zip’ saved [68606236/68606236]\n",
            "\n",
            "Found 2000 images belonging to 2 classes.\n",
            "Found 1000 images belonging to 2 classes.\n",
            "Epoch 1/100\n",
            "100/100 - 16s - loss: 0.6881 - acc: 0.5475 - val_loss: 0.6804 - val_acc: 0.5240\n",
            "Epoch 2/100\n",
            "100/100 - 15s - loss: 0.6756 - acc: 0.5715 - val_loss: 0.6827 - val_acc: 0.5290\n",
            "Epoch 3/100\n",
            "100/100 - 15s - loss: 0.6624 - acc: 0.6025 - val_loss: 0.6374 - val_acc: 0.6340\n",
            "Epoch 4/100\n",
            "100/100 - 14s - loss: 0.6483 - acc: 0.6130 - val_loss: 0.6102 - val_acc: 0.6630\n",
            "Epoch 5/100\n",
            "100/100 - 14s - loss: 0.6329 - acc: 0.6280 - val_loss: 0.5904 - val_acc: 0.6660\n",
            "Epoch 6/100\n",
            "100/100 - 14s - loss: 0.6191 - acc: 0.6655 - val_loss: 0.5702 - val_acc: 0.6980\n",
            "Epoch 7/100\n",
            "100/100 - 14s - loss: 0.6003 - acc: 0.6740 - val_loss: 0.5656 - val_acc: 0.6980\n",
            "Epoch 8/100\n",
            "100/100 - 15s - loss: 0.5971 - acc: 0.6790 - val_loss: 0.5822 - val_acc: 0.6870\n",
            "Epoch 9/100\n",
            "100/100 - 15s - loss: 0.5850 - acc: 0.6825 - val_loss: 0.5957 - val_acc: 0.6910\n",
            "Epoch 10/100\n",
            "100/100 - 14s - loss: 0.5820 - acc: 0.6850 - val_loss: 0.5624 - val_acc: 0.6990\n",
            "Epoch 11/100\n",
            "100/100 - 14s - loss: 0.5726 - acc: 0.7015 - val_loss: 0.5363 - val_acc: 0.7240\n",
            "Epoch 12/100\n",
            "100/100 - 14s - loss: 0.5656 - acc: 0.7010 - val_loss: 0.5501 - val_acc: 0.7250\n",
            "Epoch 13/100\n",
            "100/100 - 14s - loss: 0.5552 - acc: 0.7155 - val_loss: 0.5315 - val_acc: 0.7330\n",
            "Epoch 14/100\n",
            "100/100 - 14s - loss: 0.5564 - acc: 0.7160 - val_loss: 0.5446 - val_acc: 0.7220\n",
            "Epoch 15/100\n",
            "100/100 - 14s - loss: 0.5595 - acc: 0.7155 - val_loss: 0.5609 - val_acc: 0.6950\n",
            "Epoch 16/100\n",
            "100/100 - 14s - loss: 0.5492 - acc: 0.7205 - val_loss: 0.5183 - val_acc: 0.7480\n",
            "Epoch 17/100\n",
            "100/100 - 14s - loss: 0.5504 - acc: 0.7125 - val_loss: 0.5139 - val_acc: 0.7440\n",
            "Epoch 18/100\n",
            "100/100 - 14s - loss: 0.5454 - acc: 0.7270 - val_loss: 0.5115 - val_acc: 0.7500\n",
            "Epoch 19/100\n",
            "100/100 - 14s - loss: 0.5446 - acc: 0.7260 - val_loss: 0.5189 - val_acc: 0.7340\n",
            "Epoch 20/100\n",
            "100/100 - 14s - loss: 0.5396 - acc: 0.7275 - val_loss: 0.4918 - val_acc: 0.7610\n",
            "Epoch 21/100\n",
            "100/100 - 14s - loss: 0.5254 - acc: 0.7420 - val_loss: 0.5023 - val_acc: 0.7460\n",
            "Epoch 22/100\n",
            "100/100 - 14s - loss: 0.5222 - acc: 0.7345 - val_loss: 0.4973 - val_acc: 0.7500\n",
            "Epoch 23/100\n",
            "100/100 - 14s - loss: 0.5060 - acc: 0.7655 - val_loss: 0.5366 - val_acc: 0.7210\n",
            "Epoch 24/100\n",
            "100/100 - 14s - loss: 0.5216 - acc: 0.7375 - val_loss: 0.4739 - val_acc: 0.7650\n",
            "Epoch 25/100\n",
            "100/100 - 14s - loss: 0.5139 - acc: 0.7435 - val_loss: 0.4867 - val_acc: 0.7540\n",
            "Epoch 26/100\n",
            "100/100 - 14s - loss: 0.4991 - acc: 0.7495 - val_loss: 0.5054 - val_acc: 0.7460\n",
            "Epoch 27/100\n",
            "100/100 - 14s - loss: 0.4952 - acc: 0.7620 - val_loss: 0.4747 - val_acc: 0.7630\n",
            "Epoch 28/100\n",
            "100/100 - 14s - loss: 0.5069 - acc: 0.7525 - val_loss: 0.4988 - val_acc: 0.7460\n",
            "Epoch 29/100\n",
            "100/100 - 14s - loss: 0.4993 - acc: 0.7545 - val_loss: 0.4709 - val_acc: 0.7720\n",
            "Epoch 30/100\n",
            "100/100 - 14s - loss: 0.4882 - acc: 0.7580 - val_loss: 0.4599 - val_acc: 0.7850\n",
            "Epoch 31/100\n",
            "100/100 - 14s - loss: 0.5001 - acc: 0.7595 - val_loss: 0.4910 - val_acc: 0.7540\n",
            "Epoch 32/100\n",
            "100/100 - 14s - loss: 0.4947 - acc: 0.7695 - val_loss: 0.4764 - val_acc: 0.7730\n",
            "Epoch 33/100\n",
            "100/100 - 14s - loss: 0.4828 - acc: 0.7615 - val_loss: 0.4803 - val_acc: 0.7680\n",
            "Epoch 34/100\n",
            "100/100 - 14s - loss: 0.4701 - acc: 0.7705 - val_loss: 0.4780 - val_acc: 0.7800\n",
            "Epoch 35/100\n",
            "100/100 - 14s - loss: 0.4943 - acc: 0.7465 - val_loss: 0.4920 - val_acc: 0.7740\n",
            "Epoch 36/100\n",
            "100/100 - 14s - loss: 0.4783 - acc: 0.7695 - val_loss: 0.4568 - val_acc: 0.7750\n",
            "Epoch 37/100\n",
            "100/100 - 14s - loss: 0.4695 - acc: 0.7800 - val_loss: 0.4802 - val_acc: 0.7770\n",
            "Epoch 38/100\n",
            "100/100 - 14s - loss: 0.4888 - acc: 0.7625 - val_loss: 0.4530 - val_acc: 0.7910\n",
            "Epoch 39/100\n",
            "100/100 - 14s - loss: 0.4775 - acc: 0.7735 - val_loss: 0.4598 - val_acc: 0.7810\n",
            "Epoch 40/100\n",
            "100/100 - 14s - loss: 0.4668 - acc: 0.7770 - val_loss: 0.4720 - val_acc: 0.7670\n",
            "Epoch 41/100\n",
            "100/100 - 14s - loss: 0.4775 - acc: 0.7705 - val_loss: 0.4479 - val_acc: 0.7970\n",
            "Epoch 42/100\n",
            "100/100 - 14s - loss: 0.4671 - acc: 0.7790 - val_loss: 0.4465 - val_acc: 0.7940\n",
            "Epoch 43/100\n",
            "100/100 - 14s - loss: 0.4661 - acc: 0.7710 - val_loss: 0.4792 - val_acc: 0.7740\n",
            "Epoch 44/100\n",
            "100/100 - 14s - loss: 0.4658 - acc: 0.7765 - val_loss: 0.4524 - val_acc: 0.7800\n",
            "Epoch 45/100\n",
            "100/100 - 14s - loss: 0.4570 - acc: 0.7760 - val_loss: 0.4385 - val_acc: 0.7960\n",
            "Epoch 46/100\n",
            "100/100 - 14s - loss: 0.4602 - acc: 0.7785 - val_loss: 0.4338 - val_acc: 0.8020\n",
            "Epoch 47/100\n",
            "100/100 - 14s - loss: 0.4603 - acc: 0.7770 - val_loss: 0.4569 - val_acc: 0.7780\n",
            "Epoch 48/100\n",
            "100/100 - 14s - loss: 0.4455 - acc: 0.7845 - val_loss: 0.4437 - val_acc: 0.7940\n",
            "Epoch 49/100\n",
            "100/100 - 14s - loss: 0.4441 - acc: 0.7835 - val_loss: 0.4610 - val_acc: 0.7760\n",
            "Epoch 50/100\n",
            "100/100 - 14s - loss: 0.4402 - acc: 0.8000 - val_loss: 0.4749 - val_acc: 0.7850\n",
            "Epoch 51/100\n",
            "100/100 - 14s - loss: 0.4380 - acc: 0.7975 - val_loss: 0.4217 - val_acc: 0.7910\n",
            "Epoch 52/100\n",
            "100/100 - 15s - loss: 0.4457 - acc: 0.7865 - val_loss: 0.4608 - val_acc: 0.7780\n",
            "Epoch 53/100\n",
            "100/100 - 14s - loss: 0.4522 - acc: 0.7825 - val_loss: 0.4749 - val_acc: 0.7830\n",
            "Epoch 54/100\n",
            "100/100 - 14s - loss: 0.4341 - acc: 0.8020 - val_loss: 0.4316 - val_acc: 0.7990\n",
            "Epoch 55/100\n",
            "100/100 - 14s - loss: 0.4425 - acc: 0.7955 - val_loss: 0.4335 - val_acc: 0.7940\n",
            "Epoch 56/100\n",
            "100/100 - 14s - loss: 0.4287 - acc: 0.8015 - val_loss: 0.4338 - val_acc: 0.7910\n",
            "Epoch 57/100\n",
            "100/100 - 14s - loss: 0.4271 - acc: 0.7945 - val_loss: 0.4348 - val_acc: 0.7940\n",
            "Epoch 58/100\n",
            "100/100 - 14s - loss: 0.4342 - acc: 0.8045 - val_loss: 0.4413 - val_acc: 0.7900\n",
            "Epoch 59/100\n",
            "100/100 - 14s - loss: 0.4286 - acc: 0.8065 - val_loss: 0.4421 - val_acc: 0.7900\n",
            "Epoch 60/100\n",
            "100/100 - 14s - loss: 0.4251 - acc: 0.8060 - val_loss: 0.4431 - val_acc: 0.7870\n",
            "Epoch 61/100\n",
            "100/100 - 14s - loss: 0.4200 - acc: 0.8035 - val_loss: 0.4668 - val_acc: 0.7700\n",
            "Epoch 62/100\n",
            "100/100 - 14s - loss: 0.4212 - acc: 0.8045 - val_loss: 0.4150 - val_acc: 0.8010\n",
            "Epoch 63/100\n",
            "100/100 - 14s - loss: 0.4025 - acc: 0.8190 - val_loss: 0.4478 - val_acc: 0.7860\n",
            "Epoch 64/100\n",
            "100/100 - 14s - loss: 0.4087 - acc: 0.8055 - val_loss: 0.4295 - val_acc: 0.7940\n",
            "Epoch 65/100\n",
            "100/100 - 14s - loss: 0.4168 - acc: 0.8090 - val_loss: 0.4083 - val_acc: 0.7960\n",
            "Epoch 66/100\n",
            "100/100 - 14s - loss: 0.4264 - acc: 0.8040 - val_loss: 0.4101 - val_acc: 0.8170\n",
            "Epoch 67/100\n",
            "100/100 - 14s - loss: 0.4036 - acc: 0.8090 - val_loss: 0.4083 - val_acc: 0.8040\n",
            "Epoch 68/100\n",
            "100/100 - 14s - loss: 0.4000 - acc: 0.8195 - val_loss: 0.5446 - val_acc: 0.7500\n",
            "Epoch 69/100\n",
            "100/100 - 14s - loss: 0.4131 - acc: 0.8175 - val_loss: 0.5118 - val_acc: 0.7880\n",
            "Epoch 70/100\n",
            "100/100 - 14s - loss: 0.4092 - acc: 0.8170 - val_loss: 0.5274 - val_acc: 0.7720\n",
            "Epoch 71/100\n",
            "100/100 - 14s - loss: 0.4025 - acc: 0.8205 - val_loss: 0.3998 - val_acc: 0.8080\n",
            "Epoch 72/100\n",
            "100/100 - 14s - loss: 0.3985 - acc: 0.8140 - val_loss: 0.4697 - val_acc: 0.7640\n",
            "Epoch 73/100\n",
            "100/100 - 14s - loss: 0.4002 - acc: 0.8215 - val_loss: 0.4253 - val_acc: 0.8030\n",
            "Epoch 74/100\n",
            "100/100 - 15s - loss: 0.3930 - acc: 0.8230 - val_loss: 0.4057 - val_acc: 0.8090\n",
            "Epoch 75/100\n",
            "100/100 - 14s - loss: 0.3822 - acc: 0.8280 - val_loss: 0.4580 - val_acc: 0.7730\n",
            "Epoch 76/100\n",
            "100/100 - 14s - loss: 0.3930 - acc: 0.8285 - val_loss: 0.4155 - val_acc: 0.7980\n",
            "Epoch 77/100\n",
            "100/100 - 14s - loss: 0.3958 - acc: 0.8195 - val_loss: 0.4468 - val_acc: 0.7990\n",
            "Epoch 78/100\n",
            "100/100 - 14s - loss: 0.3870 - acc: 0.8325 - val_loss: 0.5627 - val_acc: 0.7520\n",
            "Epoch 79/100\n",
            "100/100 - 14s - loss: 0.3886 - acc: 0.8225 - val_loss: 0.3928 - val_acc: 0.8070\n",
            "Epoch 80/100\n",
            "100/100 - 14s - loss: 0.3828 - acc: 0.8240 - val_loss: 0.4346 - val_acc: 0.7930\n",
            "Epoch 81/100\n",
            "100/100 - 14s - loss: 0.3776 - acc: 0.8275 - val_loss: 0.4159 - val_acc: 0.7940\n",
            "Epoch 82/100\n",
            "100/100 - 14s - loss: 0.3816 - acc: 0.8350 - val_loss: 0.4478 - val_acc: 0.7900\n",
            "Epoch 83/100\n",
            "100/100 - 14s - loss: 0.3630 - acc: 0.8370 - val_loss: 0.4297 - val_acc: 0.8030\n",
            "Epoch 84/100\n",
            "100/100 - 14s - loss: 0.3805 - acc: 0.8180 - val_loss: 0.4188 - val_acc: 0.8090\n",
            "Epoch 85/100\n",
            "100/100 - 14s - loss: 0.3664 - acc: 0.8350 - val_loss: 0.4026 - val_acc: 0.8140\n",
            "Epoch 86/100\n",
            "100/100 - 14s - loss: 0.3608 - acc: 0.8405 - val_loss: 0.4325 - val_acc: 0.8020\n",
            "Epoch 87/100\n",
            "100/100 - 14s - loss: 0.3594 - acc: 0.8360 - val_loss: 0.4384 - val_acc: 0.8050\n",
            "Epoch 88/100\n",
            "100/100 - 14s - loss: 0.3572 - acc: 0.8465 - val_loss: 0.4309 - val_acc: 0.7950\n",
            "Epoch 89/100\n",
            "100/100 - 14s - loss: 0.3611 - acc: 0.8390 - val_loss: 0.3981 - val_acc: 0.8130\n",
            "Epoch 90/100\n",
            "100/100 - 14s - loss: 0.3601 - acc: 0.8395 - val_loss: 0.5089 - val_acc: 0.7660\n",
            "Epoch 91/100\n",
            "100/100 - 14s - loss: 0.3696 - acc: 0.8390 - val_loss: 0.4590 - val_acc: 0.7860\n",
            "Epoch 92/100\n",
            "100/100 - 14s - loss: 0.3660 - acc: 0.8300 - val_loss: 0.4760 - val_acc: 0.7940\n",
            "Epoch 93/100\n",
            "100/100 - 14s - loss: 0.3667 - acc: 0.8335 - val_loss: 0.4352 - val_acc: 0.8010\n",
            "Epoch 94/100\n",
            "100/100 - 14s - loss: 0.3580 - acc: 0.8380 - val_loss: 0.4080 - val_acc: 0.8080\n",
            "Epoch 95/100\n",
            "100/100 - 14s - loss: 0.3543 - acc: 0.8475 - val_loss: 0.4090 - val_acc: 0.8150\n",
            "Epoch 96/100\n",
            "100/100 - 14s - loss: 0.3588 - acc: 0.8455 - val_loss: 0.3882 - val_acc: 0.8210\n",
            "Epoch 97/100\n",
            "100/100 - 14s - loss: 0.3698 - acc: 0.8325 - val_loss: 0.3779 - val_acc: 0.8200\n",
            "Epoch 98/100\n",
            "100/100 - 14s - loss: 0.3502 - acc: 0.8380 - val_loss: 0.4090 - val_acc: 0.8110\n",
            "Epoch 99/100\n",
            "100/100 - 14s - loss: 0.3445 - acc: 0.8480 - val_loss: 0.4227 - val_acc: 0.8030\n",
            "Epoch 100/100\n",
            "100/100 - 14s - loss: 0.3439 - acc: 0.8520 - val_loss: 0.4336 - val_acc: 0.8070\n"
          ],
          "name": "stdout"
        }
      ]
    },
    {
      "cell_type": "code",
      "metadata": {
        "id": "Q5TkPg-3JH13",
        "colab_type": "code",
        "colab": {
          "base_uri": "https://localhost:8080/",
          "height": 545
        },
        "outputId": "e127bdb6-8ce3-4c9a-c725-325e2f2f445f"
      },
      "source": [
        "import matplotlib.pyplot as plt\n",
        "acc = history.history['acc']\n",
        "val_acc = history.history['val_acc']\n",
        "loss = history.history['loss']\n",
        "val_loss = history.history['val_loss']\n",
        "\n",
        "epochs = range(len(acc))\n",
        "\n",
        "plt.plot(epochs, acc, 'bo', label='Training_accuracy')\n",
        "plt.plot(epochs, val_acc, 'b', label='Validation_accuracy')\n",
        "plt.title('Training and validation accuracy')\n",
        "\n",
        "plt.figure()\n",
        "\n",
        "plt.plot(epochs, loss, 'bo', label='Training_Loss')\n",
        "plt.plot(epochs, val_loss, 'b', label='Validation_Loss')\n",
        "plt.title('Training and validation loss')\n",
        "plt.legend()\n",
        "\n",
        "plt.show()"
      ],
      "execution_count": 10,
      "outputs": [
        {
          "output_type": "display_data",
          "data": {
            "image/png": "[encoded data removed]",
            "text/plain": [
              "<Figure size 432x288 with 1 Axes>"
            ]
          },
          "metadata": {
            "tags": []
          }
        },
        {
          "output_type": "display_data",
          "data": {
            "image/png": "[encoded data removed]",
            "text/plain": [
              "<Figure size 432x288 with 1 Axes>"
            ]
          },
          "metadata": {
            "tags": []
          }
        }
      ]
    }
  ]
}